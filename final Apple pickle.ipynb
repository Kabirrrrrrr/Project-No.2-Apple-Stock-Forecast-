{
 "cells": [
  {
   "cell_type": "code",
   "execution_count": 1,
   "id": "6f753f2f",
   "metadata": {
    "ExecuteTime": {
     "end_time": "2023-05-08T07:29:06.395459Z",
     "start_time": "2023-05-08T07:29:03.428021Z"
    }
   },
   "outputs": [],
   "source": [
    "import numpy as np\n",
    "import pandas as pd\n",
    "import matplotlib.pyplot as plt\n",
    "import seaborn as sns\n",
    "from statsmodels.tsa.stattools import adfuller\n",
    "from statsmodels.graphics.tsaplots import plot_acf, plot_pacf\n",
    "import streamlit as st\n",
    "from statsmodels.tsa.arima_model import ARIMA\n",
    "from statsmodels.tsa.arima.model import ARIMA\n",
    "from sklearn.metrics import mean_absolute_percentage_error, mean_squared_error\n",
    "from statsmodels.tsa.seasonal import seasonal_decompose\n",
    "import statsmodels.api as sm\n",
    "from statsmodels.tsa.holtwinters import ExponentialSmoothing"
   ]
  },
  {
   "cell_type": "code",
   "execution_count": 2,
   "id": "41a2b505",
   "metadata": {
    "ExecuteTime": {
     "end_time": "2023-05-08T07:29:24.766932Z",
     "start_time": "2023-05-08T07:29:24.755442Z"
    }
   },
   "outputs": [],
   "source": [
    "import warnings\n",
    "warnings.filterwarnings('ignore')"
   ]
  },
  {
   "cell_type": "code",
   "execution_count": 5,
   "id": "e2299c47",
   "metadata": {
    "ExecuteTime": {
     "end_time": "2023-05-08T07:30:43.898401Z",
     "start_time": "2023-05-08T07:30:43.882953Z"
    }
   },
   "outputs": [],
   "source": [
    "data = pd.read_csv(r\"D:\\Data Science\\Project\\Project 2 Apple Stock  Forcating\\AAPL.csv\")"
   ]
  },
  {
   "cell_type": "code",
   "execution_count": 6,
   "id": "0c630804",
   "metadata": {
    "ExecuteTime": {
     "end_time": "2023-05-08T07:30:46.743696Z",
     "start_time": "2023-05-08T07:30:46.731645Z"
    }
   },
   "outputs": [],
   "source": [
    "# convert date column into datetime format\n",
    "data['Date'] = pd.to_datetime(data['Date'],format='%d-%m-%Y')"
   ]
  },
  {
   "cell_type": "code",
   "execution_count": 7,
   "id": "f0c00f39",
   "metadata": {
    "ExecuteTime": {
     "end_time": "2023-05-08T07:31:10.536694Z",
     "start_time": "2023-05-08T07:31:10.531264Z"
    }
   },
   "outputs": [],
   "source": [
    "# set date column as index\n",
    "data.set_index('Date',inplace=True)"
   ]
  },
  {
   "cell_type": "code",
   "execution_count": 9,
   "id": "325b5e56",
   "metadata": {
    "ExecuteTime": {
     "end_time": "2023-05-08T07:31:54.729986Z",
     "start_time": "2023-05-08T07:31:54.715651Z"
    }
   },
   "outputs": [],
   "source": [
    "data_close = pd.DataFrame(data['Close'],columns=['Close'])"
   ]
  },
  {
   "cell_type": "code",
   "execution_count": 13,
   "id": "eb960b62",
   "metadata": {
    "ExecuteTime": {
     "end_time": "2023-05-08T07:35:16.137080Z",
     "start_time": "2023-05-08T07:35:16.107411Z"
    }
   },
   "outputs": [
    {
     "name": "stdout",
     "output_type": "stream",
     "text": [
      "Train data : (1760, 1)\n",
      "Test data : (251, 1)\n"
     ]
    }
   ],
   "source": [
    "# Splitting Data into Train and Test\n",
    "\n",
    "split_date = \"2019-1-1\"\n",
    "train = data_close.loc[data_close.index < split_date]\n",
    "test = data_close.loc[data_close.index >= split_date]\n",
    "print(\"Train data :\", train.shape)\n",
    "print(\"Test data :\",test.shape)"
   ]
  },
  {
   "cell_type": "code",
   "execution_count": 15,
   "id": "d7d01aad",
   "metadata": {
    "ExecuteTime": {
     "end_time": "2023-05-08T07:36:45.788323Z",
     "start_time": "2023-05-08T07:36:29.605085Z"
    }
   },
   "outputs": [],
   "source": [
    "model_sarima_final = sm.tsa.SARIMAX(train.Close,order=(0,1,2),seasonal_order=(1,1,0,66))\n",
    "sarima_fit_final = model_sarima_final.fit()"
   ]
  },
  {
   "cell_type": "code",
   "execution_count": 18,
   "id": "790f5f38",
   "metadata": {
    "ExecuteTime": {
     "end_time": "2023-05-08T07:39:47.048762Z",
     "start_time": "2023-05-08T07:39:47.037172Z"
    }
   },
   "outputs": [],
   "source": [
    "import pickle"
   ]
  },
  {
   "cell_type": "code",
   "execution_count": 19,
   "id": "b8e2b390",
   "metadata": {
    "ExecuteTime": {
     "end_time": "2023-05-08T07:40:12.248690Z",
     "start_time": "2023-05-08T07:39:58.083681Z"
    }
   },
   "outputs": [
    {
     "name": "stdout",
     "output_type": "stream",
     "text": [
      "Collecting dump\n",
      "  Downloading dump-0.0.5.tar.gz (6.2 kB)\n",
      "  Preparing metadata (setup.py): started\n",
      "  Preparing metadata (setup.py): finished with status 'done'\n",
      "Building wheels for collected packages: dump\n",
      "  Building wheel for dump (setup.py): started\n",
      "  Building wheel for dump (setup.py): finished with status 'done'\n",
      "  Created wheel for dump: filename=dump-0.0.5-py3-none-any.whl size=9016 sha256=47a36fd1f90c309c4c68410da07e834786c3b036a91e7b65b040986de4a7aa03\n",
      "  Stored in directory: c:\\users\\akshay\\appdata\\local\\pip\\cache\\wheels\\6b\\95\\62\\0507d7240adbdf04003bfde5d4009b6f6ba9afcc2e8b5c42a1\n",
      "Successfully built dump\n",
      "Installing collected packages: dump\n",
      "Successfully installed dump-0.0.5\n"
     ]
    }
   ],
   "source": [
    "!pip install dump\n",
    "from pickle import dump"
   ]
  },
  {
   "cell_type": "code",
   "execution_count": 22,
   "id": "5485ab88",
   "metadata": {
    "ExecuteTime": {
     "end_time": "2023-05-08T07:48:06.049747Z",
     "start_time": "2023-05-08T07:47:29.669318Z"
    }
   },
   "outputs": [],
   "source": [
    "pickle.dump(sarima_fit_final, open('apple.pkl','wb'))"
   ]
  },
  {
   "cell_type": "code",
   "execution_count": null,
   "id": "d258e65f",
   "metadata": {},
   "outputs": [],
   "source": []
  }
 ],
 "metadata": {
  "kernelspec": {
   "display_name": "Python 3 (ipykernel)",
   "language": "python",
   "name": "python3"
  },
  "language_info": {
   "codemirror_mode": {
    "name": "ipython",
    "version": 3
   },
   "file_extension": ".py",
   "mimetype": "text/x-python",
   "name": "python",
   "nbconvert_exporter": "python",
   "pygments_lexer": "ipython3",
   "version": "3.9.13"
  }
 },
 "nbformat": 4,
 "nbformat_minor": 5
}
